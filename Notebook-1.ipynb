{
    "metadata": {
        "kernelspec": {
            "name": "SQL",
            "display_name": "SQL",
            "language": "sql"
        },
        "language_info": {
            "name": "sql",
            "version": ""
        }
    },
    "nbformat_minor": 2,
    "nbformat": 4,
    "cells": [
        {
            "cell_type": "markdown",
            "source": [
                "2\\. feladat"
            ],
            "metadata": {
                "azdata_cell_guid": "792c4495-6f76-461e-a898-3e7fe53aa91d"
            },
            "attachments": {}
        },
        {
            "cell_type": "code",
            "source": [
                "SELECT SZALLAS_NEV,COUNT(*)\r\n",
                "FROM szallashely\r\n",
                "JOIN szallashely szh ON Szoba.SZALLAS_FK=szallashely.SZALLAS_ID\r\n",
                "JOIN Szoba sz ON Foglalas.SZOBA_FK=Szoba.SZOBA_ID\r\n",
                "GROUP by SZALLAS_NEV;"
            ],
            "metadata": {
                "azdata_cell_guid": "274b001b-1584-4d03-8722-bba41792c6de",
                "language": "sql"
            },
            "outputs": [
                {
                    "output_type": "error",
                    "evalue": "Msg 4104, Level 16, State 1, Line 3\r\nThe multi-part identifier \"Szoba.SZALLAS_FK\" could not be bound.",
                    "ename": "",
                    "traceback": []
                },
                {
                    "output_type": "error",
                    "evalue": "Msg 4104, Level 16, State 1, Line 4\r\nThe multi-part identifier \"Foglalas.SZOBA_FK\" could not be bound.",
                    "ename": "",
                    "traceback": []
                },
                {
                    "output_type": "error",
                    "evalue": "Msg 4104, Level 16, State 1, Line 4\r\nThe multi-part identifier \"Szoba.SZOBA_ID\" could not be bound.",
                    "ename": "",
                    "traceback": []
                },
                {
                    "output_type": "error",
                    "evalue": "Msg 209, Level 16, State 1, Line 5\r\nAmbiguous column name 'SZALLAS_NEV'.",
                    "ename": "",
                    "traceback": []
                },
                {
                    "output_type": "error",
                    "evalue": "Msg 209, Level 16, State 1, Line 1\r\nAmbiguous column name 'SZALLAS_NEV'.",
                    "ename": "",
                    "traceback": []
                },
                {
                    "output_type": "display_data",
                    "data": {
                        "text/html": "Total execution time: 00:00:00.002"
                    },
                    "metadata": {}
                }
            ],
            "execution_count": 1
        },
        {
            "cell_type": "code",
            "source": [
                ""
            ],
            "metadata": {
                "azdata_cell_guid": "25026daf-b6e3-4489-9392-6829774bfe71",
                "language": "sql"
            },
            "outputs": [],
            "execution_count": null
        }
    ]
}
